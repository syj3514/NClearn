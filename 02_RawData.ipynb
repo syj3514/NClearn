{
 "cells": [
  {
   "cell_type": "markdown",
   "metadata": {},
   "source": [
    "---"
   ]
  },
  {
   "cell_type": "markdown",
   "metadata": {},
   "source": [
    "---"
   ]
  },
  {
   "cell_type": "markdown",
   "metadata": {},
   "source": [
    "# 01. Introduction"
   ]
  },
  {
   "cell_type": "markdown",
   "metadata": {},
   "source": [
    "In this session, you need an account of GEM machine.  \n",
    "Here we want to propose what you can do with the NewCluster (NC) simulation raw data.  "
   ]
  },
  {
   "cell_type": "markdown",
   "metadata": {},
   "source": [
    "---"
   ]
  },
  {
   "cell_type": "markdown",
   "metadata": {},
   "source": [
    "## I. Particle"
   ]
  },
  {
   "cell_type": "markdown",
   "metadata": {},
   "source": [
    "### Dark Matter"
   ]
  },
  {
   "cell_type": "markdown",
   "metadata": {},
   "source": [
    "The dark matter in NC is treated as a cold dark matter (CDM).\n",
    "\n",
    "The gravitation is the one and only source dertermine the movement of the DM particles.\n",
    "\n",
    "\n",
    "\n",
    "The mass of the DM particle ($M_{DM}\\, \\sim\\, 10^6\\ \\rm M_{\\odot}$) inside the target zoom-in region is larger than the stellar particles ($M_{*}\\, \\sim\\, 2\\times 10^4\\ \\rm M_{\\odot}$)\n",
    "\n",
    "\n"
   ]
  },
  {
   "cell_type": "markdown",
   "metadata": {},
   "source": [
    "### Star"
   ]
  },
  {
   "cell_type": "markdown",
   "metadata": {},
   "source": [
    "data dype:\n",
    "\n",
    "- 'x', 'y', 'z' : position\n",
    "- 'vx', 'vy', 'vz' : position\n",
    "- 'm' : current mass\n",
    "- 'm0' : initial mass\n",
    "- 'rho0' : background gas density at birth position\n",
    "- 'epoch' : related to birth time (you can directly use 'age')\n",
    "- 'metal' : total metal fraction\n",
    "- 'H' ~ 'D' : element abundance\n",
    "\n",
    "- 'id' : identifier number\n",
    "- 'family' : particle type indicator"
   ]
  },
  {
   "cell_type": "markdown",
   "metadata": {},
   "source": [
    "### SMBH"
   ]
  },
  {
   "cell_type": "markdown",
   "metadata": {},
   "source": [
    "---"
   ]
  },
  {
   "cell_type": "markdown",
   "metadata": {},
   "source": [
    "## II. AMR/Hydro"
   ]
  },
  {
   "cell_type": "markdown",
   "metadata": {},
   "source": [
    "data dype:\n",
    "\n",
    "('x', 'y', 'z', 'rho', 'vx', 'vy', 'vz', 'P', 'metal', 'H', 'O', 'Fe', 'Mg', 'C', 'N', 'Si', 'S', 'D', 'd1', 'd2', 'd3', 'd4', 'refmask', 'sigma', 'level', 'cpu')\n",
    "\n",
    "- 'x', 'y', 'z' : position\n",
    "- 'vx', 'vy', 'vz' : position\n",
    "- 'm' : mass\n",
    "- 'level' : AMR level\n",
    "- 'rho' : mass density\n",
    "- 'P' : pressure\n",
    "- 'T' : temperature\n",
    "- 'metal' : total metal fraction\n",
    "- 'H' ~ 'D' : element abundance\n",
    "- 'd1' : fraction of small Carbonaceous dust (a = 0.005 micron)\n",
    "- 'd2' : fraction of small Carbonaceous dust (a = 0.1 micron)\n",
    "- 'd3' : Silicon fraction of small Silicate dust (a = 0.005 micron)\n",
    "- 'd4' : Silicon fraction of small Silicate dust (a = 0.1 micron)\n",
    "- 'sigma' : internal gas velocity dispersion\n",
    "\n",
    "** For silicate dust (d3, d4), you should divide 0.163 (the mass fraction of Si in the Silicate dust) to get the Silicate dust fraction"
   ]
  },
  {
   "cell_type": "markdown",
   "metadata": {},
   "source": [
    "---"
   ]
  },
  {
   "cell_type": "markdown",
   "metadata": {},
   "source": [
    "## III. Tracer"
   ]
  },
  {
   "cell_type": "markdown",
   "metadata": {},
   "source": [
    "please find the detailed description for the tracer particles at \n",
    "\n",
    "**Accurate tracer particles of baryon dynamics in the adaptive mesh refinement code Ramses**\n",
    "https://ui.adsabs.harvard.edu/abs/2019A%26A...621A..96C/abstract"
   ]
  },
  {
   "cell_type": "markdown",
   "metadata": {},
   "source": [
    "---"
   ]
  },
  {
   "cell_type": "markdown",
   "metadata": {},
   "source": [
    "---"
   ]
  },
  {
   "cell_type": "markdown",
   "metadata": {},
   "source": [
    "# 02. Access data with `RUR`"
   ]
  },
  {
   "cell_type": "markdown",
   "metadata": {},
   "source": [
    "---"
   ]
  },
  {
   "cell_type": "markdown",
   "metadata": {},
   "source": [
    "## Preparation"
   ]
  },
  {
   "cell_type": "markdown",
   "metadata": {},
   "source": [
    "Install `RUR`\n",
    "```bash\n",
    "guest@GC11:~$ git clone https://github.com/sanhancluster/rur.git\n",
    "guest@GC11:~$ cd rur\n",
    "guest@GC11:~/rur$ ./f2py        # Compile fortran-based functions\n",
    "guest@GC11:~$ conda develop .   # If you use conda, add this repository to PATH\n",
    "```"
   ]
  },
  {
   "cell_type": "code",
   "execution_count": 1,
   "metadata": {
    "ExecuteTime": {
     "end_time": "2024-08-19T02:25:55.965574Z",
     "start_time": "2024-08-19T02:25:54.592854Z"
    }
   },
   "outputs": [],
   "source": [
    "# Import Libraries\n",
    "import numpy as np\n",
    "import matplotlib.pyplot as plt\n",
    "plt.style.use('classic')\n",
    "from matplotlib import colors\n",
    "from matplotlib import gridspec\n",
    "import scipy\n",
    "\n",
    "import rur\n",
    "from rur import uri, uhmi, painter, vrload\n",
    "from rur.sim import NewCluster\n",
    "from rur.sci import photometry, chemistry"
   ]
  },
  {
   "cell_type": "markdown",
   "metadata": {},
   "source": [
    "### Get snapshot information"
   ]
  },
  {
   "cell_type": "code",
   "execution_count": 2,
   "metadata": {
    "ExecuteTime": {
     "end_time": "2024-08-19T02:25:55.991246Z",
     "start_time": "2024-08-19T02:25:55.968001Z"
    }
   },
   "outputs": [
    {
     "name": "stdout",
     "output_type": "stream",
     "text": [
      "[Output 00411] Age (Gyr) : 5.327 / 13.761, z = 1.17316 (a = 0.4602)\n",
      "\n",
      " > Parameters: {'nstar': array([624161037], dtype=int32), 'star': array([ True]), 'ncpu': 960, 'ndim': 3, 'levelmin': 8, 'levelmax': 21, 'ngridmax': 4000000, 'nstep_coarse': 38262, 'boxlen': 1.0, 'time': -1.34385025856362, 'aexp': 0.460158685234279, 'H0': 70.3000030517578, 'omega_m': 0.272000014781952, 'omega_l': 0.727999985218048, 'omega_k': 0.0, 'omega_b': 0.0455, 'unit_l': 2.01605799705751e+26, 'unit_d': 2.5936692558499e-29, 'unit_t': 9.27706542995716e+16, 'unit_m': 2.12531671957152e+50, 'h': 0.703000030517578, 'z': 1.173163371872191, 'boxsize': 100.00000585166977, 'boxsize_physical': 65.45642847589318, 'boxsize_comoving': 142.24751281738293, 'icoarse': 38262, 'ordering': 'hilbert', 'age': 5.327376358967498, 'lookback_time': 8.433483869839588}\n",
      "\n",
      " > 1th snapshot: z=50.00  age=0.05 Gyr\n",
      " > 521th snapshot: z=0.99  age=6.01 Gyr\n"
     ]
    }
   ],
   "source": [
    "# Setting\n",
    "NC = NewCluster(411)\n",
    "print(f\"\\n > Parameters: {NC.params}\\n\")\n",
    "\n",
    "# Get time series\n",
    "NCs = uri.TimeSeries(NC)\n",
    "NCs.read_iout_avail()\n",
    "iout_avail = NCs.iout_avail\n",
    "first = iout_avail[0]\n",
    "print(f\" > {first['iout']}th snapshot: z={1/first['aexp']-1:.2f}  age={first['age']:.2f} Gyr\")\n",
    "last = iout_avail[-1]\n",
    "print(f\" > {last['iout']}th snapshot: z={1/last['aexp']-1:.2f}  age={last['age']:.2f} Gyr\")"
   ]
  },
  {
   "cell_type": "markdown",
   "metadata": {},
   "source": [
    "---"
   ]
  },
  {
   "cell_type": "markdown",
   "metadata": {},
   "source": [
    "### Get catalogue"
   ]
  },
  {
   "cell_type": "code",
   "execution_count": 3,
   "metadata": {
    "ExecuteTime": {
     "end_time": "2024-08-19T02:25:57.910805Z",
     "start_time": "2024-08-19T02:25:55.994105Z"
    }
   },
   "outputs": [
    {
     "name": "stdout",
     "output_type": "stream",
     "text": [
      " > 7411 galaxies\n",
      " > 99150 halos\n"
     ]
    }
   ],
   "source": [
    "# Get HaloMaker and GalaxyMaker (VR NOT SUPPORTED YET)\n",
    "HM = uhmi.HaloMaker()\n",
    "mgals = HM.load(NC, galaxy=True) # GalaxyMaker\n",
    "print(f\" > {len(mgals)} galaxies\")\n",
    "mhals = HM.load(NC, galaxy=False) # HaloMaker\n",
    "print(f\" > {len(mhals)} halos\")"
   ]
  },
  {
   "cell_type": "code",
   "execution_count": 4,
   "metadata": {},
   "outputs": [],
   "source": [
    "import zipfile, os\n",
    "zname_HM = \"./gm_example.zip\" # <- Change this to the name of the zip file you want to extract\n",
    "with zipfile.ZipFile(zname_HM, 'r') as zip_ref:\n",
    "    zip_ref.extractall()\n",
    "    \n",
    "if(np.__version__ >= '1.16.3'):\n",
    "    HMs = np.load(\"./GalaxyMaker_00411.pkl\", allow_pickle=True)\n",
    "else:\n",
    "    import pickle as pkl\n",
    "    with open(\"./GalaxyMaker_00411.pkl\", 'rb') as f:\n",
    "        HMs = pkl.load(f)"
   ]
  },
  {
   "cell_type": "markdown",
   "metadata": {},
   "source": [
    "---"
   ]
  },
  {
   "cell_type": "markdown",
   "metadata": {},
   "source": [
    "### Get Raw data near target"
   ]
  },
  {
   "cell_type": "code",
   "execution_count": 5,
   "metadata": {
    "ExecuteTime": {
     "end_time": "2024-08-19T02:25:57.921654Z",
     "start_time": "2024-08-19T02:25:57.914143Z"
    }
   },
   "outputs": [
    {
     "name": "stdout",
     "output_type": "stream",
     "text": [
      " > Available: ('nparts', 'id', 'timestep', 'level', 'host', 'hostsub', 'nbsub', 'nextsub', 'aexp', 'm', 'x', 'y', 'z', 'vx', 'vy', 'vz', 'Lx', 'Ly', 'Lz', 'r', 'a', 'b', 'c', 'ek', 'ep', 'et', 'spin', 'sigma', 'sigma_bulge', 'm_bulge', 'rvir', 'mvir', 'tvir', 'cvel', 'rho0', 'rc', 'Mcold_gas_r90', 'Mdense_gas_r50', 'Mdense_gas_r90', 'O_gas', 'Mg_gas', 'C_gas', 'Si_gas', 'D_gas', 'CDustSmall_gas', 'SiDustSmall_gas', 'SBu', 'SBu_r50', 'SBg', 'SBg_r50', 'SBr', 'SBr_r50', 'SBi', 'SBi_r90', 'SBz', 'SBz_r90', 'MBH', 'r50', 'r90', 'age', 'r50u', 'r90u', 'r50g', 'r90g', 'r50r', 'r90r', 'r50i', 'r90i', 'r50z', 'r90z', 'umag', 'gmag', 'rmag', 'imag', 'zmag', 'ageu', 'ageg', 'ager', 'agei', 'agez', 'SFR10', 'vsig', 'SFR10_r50', 'SFR10_r90', 'vsig_r50', 'vsig_r90', 'SFR', 'SFR_r50', 'SFR_r90', 'metal', 'vsig_gas', 'vsig_gas_r50', 'vsig_gas_r90', 'metal_gas', 'M_gas', 'M_gas_r50', 'M_gas_r90', 'Mcold_gas', 'Mcold_gas_r50', 'Mdense_gas', 'H_gas', 'Fe_gas', 'N_gas', 'S_gas', 'CDustLarge_gas', 'SiDustLarge_gas', 'SBu_r90', 'SBg_r90', 'SBr_r90', 'SBi_r50', 'SBz_r50', 'dBH')\n",
      "Target galaxy: 41\n",
      " > Nparts = 3274978 stars\n",
      " > M* = 5.90e+10 Msol\n",
      " > Rmax = 78.61 kpc\n",
      " > R50 = 1.51 kpc\n",
      " > R90 = 7.07 kpc\n",
      " > age(rband) = 1.99 Gyr\n",
      "\n",
      " > Box: \n",
      "[[0.44195357 0.44225912]\n",
      " [0.4689359  0.46924145]\n",
      " [0.45845098 0.45875653]]\n"
     ]
    }
   ],
   "source": [
    "target = mgals[40]\n",
    "print(f\" > Available: {target.dtype.names}\")\n",
    "print(f\"Target galaxy: {target['id']}\")\n",
    "print(f\" > Nparts = {target['nparts']} stars\")\n",
    "print(f\" > M* = {target['m']:.2e} Msol\")\n",
    "print(f\" > Rmax = {target['r']/NC.unit['kpc']:.2f} kpc\")\n",
    "print(f\" > R50 = {target['r50']/NC.unit['kpc']:.2f} kpc\")\n",
    "print(f\" > R90 = {target['r90']/NC.unit['kpc']:.2f} kpc\")\n",
    "print(f\" > age(rband) = {target['ager']:.2f} Gyr\")\n",
    "\n",
    "# Set 10 kpc box\n",
    "NC.set_box_halo(target, radius=10*NC.unit['kpc'], use_halo_radius=False)\n",
    "print(f\"\\n > Box: \\n{NC.box}\")"
   ]
  },
  {
   "cell_type": "markdown",
   "metadata": {},
   "source": [
    "---"
   ]
  },
  {
   "cell_type": "markdown",
   "metadata": {},
   "source": [
    "### Get Particle"
   ]
  },
  {
   "cell_type": "code",
   "execution_count": 6,
   "metadata": {
    "ExecuteTime": {
     "end_time": "2024-08-19T02:26:01.964614Z",
     "start_time": "2024-08-19T02:25:57.923693Z"
    }
   },
   "outputs": [
    {
     "name": "stdout",
     "output_type": "stream",
     "text": [
      "Reading 5 part files (832.5 MiB) in /storage7/NewCluster/snapshots/output_00411... \n",
      "\tAllocating Memory...\n",
      "\tDone (0.238 sec) -> 5017177 particles\n"
     ]
    },
    {
     "data": {
      "application/vnd.jupyter.widget-view+json": {
       "model_id": "b1e8822ce3e947e289747c3bbdfb4a87",
       "version_major": 2,
       "version_minor": 0
      },
      "text/plain": [
       "Reading parts:   0%|          | 0/5 [00:00<?, ?it/s]"
      ]
     },
     "metadata": {},
     "output_type": "display_data"
    },
    {
     "name": "stdout",
     "output_type": "stream",
     "text": [
      "Done (3.337s).\n",
      "\tMasking...\n",
      "\tDone (2.595s).\n",
      "Masking particles...\n",
      "Done (11.300s).\n",
      "\n",
      "3457557 particles\n",
      " > 3204486 stars\n",
      " > 89635 dark matters\n",
      " > Available: ('x', 'y', 'z', 'vx', 'vy', 'vz', 'm', 'id', 'level', 'family', 'tag', 'epoch', 'metal', 'm0', 'H', 'O', 'Fe', 'Mg', 'C', 'N', 'Si', 'S', 'D', 'rho0', 'partp', 'cpu')\n"
     ]
    }
   ],
   "source": [
    "part = NC.get_part(nthread=5)\n",
    "print(f\"\\n{len(part)} particles\")\n",
    "star = part['star']\n",
    "print(f\" > {len(star)} stars\")\n",
    "dm = part['dm']\n",
    "print(f\" > {len(dm)} dark matters\")\n",
    "print(f\" > Available: {part.dtype.names}\")"
   ]
  },
  {
   "cell_type": "markdown",
   "metadata": {},
   "source": [
    "---"
   ]
  },
  {
   "cell_type": "markdown",
   "metadata": {},
   "source": [
    "### Get Cell"
   ]
  },
  {
   "cell_type": "code",
   "execution_count": 7,
   "metadata": {
    "ExecuteTime": {
     "end_time": "2024-08-19T02:26:04.244381Z",
     "start_time": "2024-08-19T02:26:01.967604Z"
    }
   },
   "outputs": [
    {
     "name": "stdout",
     "output_type": "stream",
     "text": [
      "Reading 5 AMR & hydro files (645.4 MiB) in /storage7/NewCluster/snapshots/output_00411... \n",
      "\tAllocating Memory...\n",
      "\tDone (0.465 sec) -> 2599102 cells\n"
     ]
    },
    {
     "data": {
      "application/vnd.jupyter.widget-view+json": {
       "model_id": "4ebda2d56c7749c9958e8bc4dcd18ca3",
       "version_major": 2,
       "version_minor": 0
      },
      "text/plain": [
       "Reading cells:   0%|          | 0/5 [00:00<?, ?it/s]"
      ]
     },
     "metadata": {},
     "output_type": "display_data"
    },
    {
     "name": "stdout",
     "output_type": "stream",
     "text": [
      "Done (2.480s).\n",
      "\tMasking...\n",
      "\tDone (2.468s).\n",
      "Masking cells...\n",
      "Done (6.954s).\n",
      "\n",
      "625337 cells\n",
      " > 1390 cells at level 16 (998.79 pc)\n",
      " > 44463 cells at level 17 (499.39 pc)\n",
      " > 94597 cells at level 18 (249.70 pc)\n",
      " > 212431 cells at level 19 (124.85 pc)\n",
      " > 272456 cells at level 20 (62.42 pc)\n",
      " > Available: ('x', 'y', 'z', 'rho', 'vx', 'vy', 'vz', 'P', 'metal', 'H', 'O', 'Fe', 'Mg', 'C', 'N', 'Si', 'S', 'D', 'd1', 'd2', 'd3', 'd4', 'refmask', 'sigma', 'level', 'cpu')\n"
     ]
    }
   ],
   "source": [
    "cell = NC.get_cell(nthread=5)\n",
    "print(f\"\\n{len(cell)} cells\")\n",
    "lvls, counts = np.unique(cell['level'], return_counts=True)\n",
    "for lvl, count in zip(lvls, counts):\n",
    "    print(f\" > {count} cells at level {lvl} ({(1 / 2**lvl)/NC.unit['pc']:.2f} pc)\")\n",
    "print(f\" > Available: {cell.dtype.names}\")"
   ]
  },
  {
   "cell_type": "markdown",
   "metadata": {},
   "source": [
    "---"
   ]
  },
  {
   "cell_type": "markdown",
   "metadata": {},
   "source": [
    "### Get SMBHs"
   ]
  },
  {
   "cell_type": "code",
   "execution_count": null,
   "metadata": {
    "ExecuteTime": {
     "end_time": "2024-08-19T02:26:04.303330Z",
     "start_time": "2024-08-19T02:26:04.247215Z"
    }
   },
   "outputs": [
    {
     "name": "stdout",
     "output_type": "stream",
     "text": [
      "Reading a sink file (625.9 KiB) in /storage7/NewCluster/snapshots/output_00411... \n",
      "Done (0.047s).\n",
      "Masking sinks... 1 / 675 (0.0015)\n",
      "Done (0.000s).\n"
     ]
    }
   ],
   "source": [
    "smbh = NC.get_sink()\n",
    "clouds = part['sink']\n",
    "print(f\"\\n{len(smbh)} SMBHs have {len(clouds)} clouds\")\n",
    "print(f\" > Available: {smbh.dtype.names}\")"
   ]
  },
  {
   "cell_type": "markdown",
   "metadata": {},
   "source": [
    "ㅤ  \n",
    "ㅤ  \n",
    "ㅤ  \n",
    "ㅤ  \n",
    "ㅤ  \n",
    "ㅤ  \n",
    "ㅤ  \n",
    "ㅤ  "
   ]
  },
  {
   "cell_type": "markdown",
   "metadata": {},
   "source": [
    "---"
   ]
  },
  {
   "cell_type": "markdown",
   "metadata": {},
   "source": [
    "---"
   ]
  },
  {
   "cell_type": "markdown",
   "metadata": {},
   "source": [
    "# 03. Visualize Data"
   ]
  },
  {
   "cell_type": "markdown",
   "metadata": {},
   "source": [
    "---"
   ]
  },
  {
   "cell_type": "markdown",
   "metadata": {},
   "source": [
    "## I. Particle density map"
   ]
  },
  {
   "cell_type": "code",
   "execution_count": null,
   "metadata": {
    "ExecuteTime": {
     "end_time": "2024-08-19T02:26:08.819045Z",
     "start_time": "2024-08-19T02:26:04.307551Z"
    }
   },
   "outputs": [],
   "source": [
    "fig, axes = plt.subplots(nrows=2, ncols=3, figsize=(9,6))\n",
    "# Remove ticks\n",
    "for ax in axes.flatten():\n",
    "    ax.set_xticks([])\n",
    "    ax.set_yticks([])\n",
    "\n",
    "\n",
    "###### X-Y projection ######\n",
    "# Dark Matter density map\n",
    "ax = axes[0,0]\n",
    "im = painter.draw_partmap(dm, ax=ax, cmap=plt.cm.bone, qscale=2, proj=[0,1])\n",
    "ax.set_title('Dark Matter')\n",
    "\n",
    "# Stellar density map\n",
    "ax = axes[0,1]\n",
    "im = painter.draw_partmap(star, ax=ax, cmap=plt.cm.afmhot, qscale=4, proj=[0,1])\n",
    "ax.set_title('Star (Density)')\n",
    "\n",
    "# u-band image\n",
    "ax = axes[0,2]\n",
    "uband = photometry.measure_luminosity(star, 'SDSS_u')\n",
    "im = painter.draw_partmap(star, ax=ax, cmap=plt.cm.gray_r, qscale=4, weights=uband, proj=[0,1])\n",
    "ax.set_title('u-band Image')\n",
    "\n",
    "###### X-Z projection ######\n",
    "# Dark Matter density map\n",
    "ax = axes[1,0]\n",
    "im = painter.draw_partmap(dm, ax=ax, cmap=plt.cm.bone, qscale=2, proj=[0,2])\n",
    "\n",
    "# Stellar density map\n",
    "ax = axes[1,1]\n",
    "im = painter.draw_partmap(star, ax=ax, cmap=plt.cm.afmhot, qscale=4, proj=[0,2])\n",
    "\n",
    "# u-band image\n",
    "ax = axes[1,2]\n",
    "im = painter.draw_partmap(star, ax=ax, cmap=plt.cm.gray_r, qscale=4, weights=uband, proj=[0,2])\n",
    "\n",
    "plt.subplots_adjust(wspace=0, hspace=0)\n",
    "plt.show(); plt.close()"
   ]
  },
  {
   "cell_type": "markdown",
   "metadata": {},
   "source": [
    "---"
   ]
  },
  {
   "cell_type": "markdown",
   "metadata": {},
   "source": [
    "## II. Gas maps"
   ]
  },
  {
   "cell_type": "code",
   "execution_count": null,
   "metadata": {
    "ExecuteTime": {
     "end_time": "2024-08-19T02:26:11.270548Z",
     "start_time": "2024-08-19T02:26:08.822310Z"
    }
   },
   "outputs": [],
   "source": [
    "fig, axes = plt.subplots(nrows=2, ncols=3, figsize=(9,6))\n",
    "# Remove ticks\n",
    "for ax in axes.flatten():\n",
    "    ax.set_xticks([])\n",
    "    ax.set_yticks([])\n",
    "\n",
    "\n",
    "###### X-Z projection ######\n",
    "# Cell density map\n",
    "ax = axes[0,0]\n",
    "painter.draw_gasmap(cell, ax=ax, mode='rho', unit='H/cc', cmap=plt.cm.bone, qscale=2, proj=[0,2])\n",
    "ax.set_title('Density')\n",
    "\n",
    "# Cell temperature map\n",
    "ax = axes[0,1]\n",
    "vmax = 1e7 # Kelvin\n",
    "vmin = 1e3 # Kelvin\n",
    "painter.draw_gasmap(cell, ax=ax, mode='T', unit='K', cmap=plt.cm.coolwarm, proj=[0,2], vmax=vmax, vmin=vmin)\n",
    "ax.set_title('Temperature')\n",
    "\n",
    "# Cell metallicity map\n",
    "ax = axes[0,2]\n",
    "painter.draw_gasmap(cell, ax=ax, mode='metal', cmap=plt.cm.winter, proj=[0,2], normmode='linear')\n",
    "ax.set_title('Metallicity')\n",
    "\n",
    "# Cell AMR level map\n",
    "ax = axes[1,0]\n",
    "# painter.draw_grid(cell, ax=ax, proj=[0,2], cmap=plt.cm.jet) # <- slow but detailed\n",
    "painter.draw_lvlmap(cell, ax=ax, proj=[0,2], cmap=plt.cm.jet, qscale=0.1)\n",
    "ax.set_title('AMR level')\n",
    "\n",
    "# Chemical Map\n",
    "ax = axes[1,1]\n",
    "FeH = chemistry.Z_over_Z(cell, chem1='Fe', chem2='H')\n",
    "painter.draw_gasmap(cell, quantity=FeH, ax=ax, proj=[0,2], cmap=plt.cm.jet, normmode='log', qscale=1)\n",
    "ax.set_title('[Fe/H]')\n",
    "\n",
    "# Dust-to-Metal\n",
    "ax = axes[1,2]\n",
    "muMg=24.3050; muFe=55.8450; muSi=28.0855; muO =15.9990\n",
    "nsilMg=1.0; nsilFe=1.0; nsilSi=1.0; nsilO=4.0\n",
    "numtot=muMg*nsilMg+muFe*nsilFe+muSi*nsilSi+muO*nsilO\n",
    "SioverSil=muSi*nsilSi/numtot\n",
    "# d1: Carbonaceous 0.005 um\n",
    "# d2: Carbonaceous 0.1 um\n",
    "# d3: Silicate 0.005 um\n",
    "# d4: Silicate 0.1 um\n",
    "mdust = cell['m','Msol'] * (cell['d1'] + cell['d2'] + (cell['d3']+cell['d4'])/SioverSil)\n",
    "mmetal = cell['m','Msol'] * cell['metal']\n",
    "DTM = mdust / mmetal\n",
    "painter.draw_gasmap(cell, quantity=DTM, ax=ax, proj=[0,2], cmap=plt.cm.BrBG, vmax=0.4, vmin=0.004, normmode='log')\n",
    "ax.set_title('Dust-to-Metal')\n",
    "\n",
    "\n",
    "plt.subplots_adjust(wspace=0, hspace=0.2)\n",
    "plt.show(); plt.close()"
   ]
  },
  {
   "cell_type": "markdown",
   "metadata": {},
   "source": [
    "---"
   ]
  },
  {
   "cell_type": "markdown",
   "metadata": {},
   "source": [
    "## III. Other maps"
   ]
  },
  {
   "cell_type": "markdown",
   "metadata": {},
   "source": [
    "### SMBH Map"
   ]
  },
  {
   "cell_type": "code",
   "execution_count": null,
   "metadata": {
    "ExecuteTime": {
     "end_time": "2024-08-19T02:26:12.382262Z",
     "start_time": "2024-08-19T02:26:11.272792Z"
    }
   },
   "outputs": [],
   "source": [
    "fig, ax = plt.subplots(figsize=(6,6))\n",
    "# Remove ticks\n",
    "ax.set_xticks([]); ax.set_yticks([])\n",
    "\n",
    "# Set 10 kpc box\n",
    "NC.set_box_halo(target, radius=10*NC.unit['kpc'], use_halo_radius=False)\n",
    "\n",
    "# Background image\n",
    "painter.draw_partmap(star, box=NC.box, ax=ax, cmap=plt.cm.gray, qscale=3, proj=[0,2], weights=uband)\n",
    "\n",
    "\n",
    "# Set 1 kpc box\n",
    "NC.set_box_halo(target, radius=1*NC.unit['kpc'], use_halo_radius=False)\n",
    "\n",
    "# Inset axis\n",
    "axin = ax.inset_axes([0.02, 0.02, 0.4, 0.4])\n",
    "for spine in axin.spines.values(): spine.set_edgecolor('orange')\n",
    "# Remove ticks\n",
    "axin.set_xticks([]); axin.set_yticks([])\n",
    "\n",
    "# Draw box\n",
    "x1 = NC.box[0,0]; x2 = NC.box[0,1]\n",
    "z1 = NC.box[2,0]; z2 = NC.box[2,1]\n",
    "rectangle = plt.Rectangle((x1, z1), x2-x1, z2-z1, ec='orange', fc='none')\n",
    "ax.add_patch(rectangle)\n",
    "\n",
    "# Background image\n",
    "vmax = 1e7; vmin = 5e3\n",
    "painter.draw_gasmap(cell, \n",
    "                    box=NC.box, \n",
    "                    ax=axin, \n",
    "                    mode='T', unit='K', \n",
    "                    cmap=plt.cm.bwr, \n",
    "                    proj=[0,2], \n",
    "                    vmax=vmax, \n",
    "                    vmin=vmin)\n",
    "\n",
    "axin.scatter(clouds['x'], clouds['z'], ec='none', fc='orange', s=1)\n",
    "axin.scatter(smbh['x'], smbh['z'], color='magenta', s=20, marker='x')\n",
    "\n",
    "ax.text(0.985, 0.015, \n",
    "        fr\"$\\rm MBH={np.log10(smbh[0]['m','Msol']):.2f}\\ M_\\odot$\", \n",
    "        size=15,\n",
    "        color='w', \n",
    "        ha='right', va='bottom', \n",
    "        transform=ax.transAxes)\n",
    "\n",
    "plt.show(); plt.close()"
   ]
  },
  {
   "cell_type": "markdown",
   "metadata": {},
   "source": [
    "---"
   ]
  },
  {
   "cell_type": "markdown",
   "metadata": {},
   "source": [
    "### Tracking gas tracers"
   ]
  },
  {
   "cell_type": "code",
   "execution_count": null,
   "metadata": {},
   "outputs": [],
   "source": [
    "iout_avail = iout_avail[iout_avail['iout']<=411]"
   ]
  },
  {
   "cell_type": "code",
   "execution_count": null,
   "metadata": {
    "ExecuteTime": {
     "end_time": "2024-08-19T02:26:16.202209Z",
     "start_time": "2024-08-19T02:26:12.383977Z"
    }
   },
   "outputs": [],
   "source": [
    "# Get gas tracers\n",
    "gas_tracer = part['gas_tracer']\n",
    "print(f\" > {len(gas_tracer)} gas tracers\")\n",
    "\n",
    "# Choose central tracers\n",
    "distances = np.sqrt((target['x']-gas_tracer['x'])**2 + (target['y']-gas_tracer['y'])**2 + (target['z']-gas_tracer['z'])**2)\n",
    "mask = distances < 0.5*target['r50']\n",
    "target_tracers = gas_tracer[mask]\n",
    "#print(f\" > {len(target_tracers)} gas tracers in 0.5 R50 (={0.5*target['r50']/NC.unit['pc']:.2f} pc)\")\n",
    "\n",
    "\n",
    "\n",
    "# See motions during last 8 snapshots\n",
    "lengt = 8\n",
    "target_iouts = iout_avail[-lengt:]['iout']\n",
    "target_iouts = target_iouts[target_iouts != last['iout']][::-1]\n",
    "\n",
    "# Save tracers in previous 8 snapshots\n",
    "tmp_dictionary = {}\n",
    "for iout in target_iouts:\n",
    "    iNC = NCs.get_snap(iout)\n",
    "    iNC.set_box_halo(target, radius=20*NC.unit['kpc'], use_halo_radius=False)\n",
    "    uri.timer.verbose=0 # No verbose mode\n",
    "    iNC.get_part(pname='tracer', target_fields=['x','y','z','id','family'], nthread=5)\n",
    "    uri.timer.verbose=1\n",
    "    tmp_dictionary[iout] = iNC.part\n",
    "    print(f\" > {iout}th snapshot: {len(iNC.part['tracer'])} tracers\")"
   ]
  },
  {
   "cell_type": "code",
   "execution_count": null,
   "metadata": {
    "ExecuteTime": {
     "end_time": "2024-08-19T02:29:10.151907Z",
     "start_time": "2024-08-19T02:28:48.965040Z"
    },
    "scrolled": true
   },
   "outputs": [],
   "source": [
    "from rur.drawer import colorline\n",
    "from scipy.ndimage import gaussian_filter1d\n",
    "fig, ax = plt.subplots(figsize=(6,6))\n",
    "# Remove ticks\n",
    "ax.set_xticks([]); ax.set_yticks([])\n",
    "\n",
    "\n",
    "# Background image\n",
    "NC.set_box_halo(target, radius=10*NC.unit['kpc'], use_halo_radius=False)\n",
    "painter.draw_gasmap(cell, ax=ax, box=NC.box, mode='rho', unit='H/cc', cmap=plt.cm.gray, qscale=2, proj=[0,2])\n",
    "ax.set_xlim(*NC.box[0])\n",
    "ax.set_ylim(*NC.box[2])\n",
    "\n",
    "# Inset axis\n",
    "axin = ax.inset_axes([0.52, 0.02, 0.4, 0.4])\n",
    "for spine in axin.spines.values(): spine.set_edgecolor('dodgerblue')\n",
    "# Remove ticks\n",
    "axin.set_xticks([]); axin.set_yticks([])\n",
    "#NC.set_box_halo(target, radius=0.5, use_halo_radius=True, radius_name='r50')\n",
    "NC.set_box_halo(target, radius=5*NC.unit['kpc'], use_halo_radius=True)\n",
    "painter.draw_gasmap(cell, ax=axin, box=NC.box, mode='rho', unit='H/cc', cmap=plt.cm.gray, qscale=1, proj=[0,2])\n",
    "\n",
    "# Draw tracer tracks\n",
    "colorss = plt.cm.bwr_r(np.linspace(0, 1, len(target_tracers)))\n",
    "for target_tracer, color in zip(target_tracers, colorss):\n",
    "    xs = np.zeros(lengt); zs = np.zeros(lengt); ts = np.zeros(lengt)\n",
    "    xs[0] = target_tracer['x']; zs[0] = target_tracer['z']; ts[0] = 411\n",
    "    for i, iout in enumerate(target_iouts):\n",
    "        if i >= lengt-1: break\n",
    "        tmp = tmp_dictionary[iout]\n",
    "        # Out of box\n",
    "        if(target_tracer['id'] not in tmp['id']): break\n",
    "        idx = np.where(tmp['id'] == target_tracer['id'])[0][0]\n",
    "        xs[i+1] = tmp[idx]['x']; zs[i+1] = tmp[idx]['z']; ts[i+1] = iout\n",
    "    mask = xs>0\n",
    "    xs = xs[mask]; zs = zs[mask]; ts = ts[mask]\n",
    "    axin.scatter(xs[0], zs[0], marker='*', ec='none', fc=colorss[-1], s=20)\n",
    "    colorline(xs, zs, z=ts, cmap='bwr_r', norm=plt.Normalize(target_iouts[-1], 411), linewidth=0.2, ax=ax, zorder=2)\n",
    "    colorline(xs, zs, z=ts, cmap='bwr_r', norm=plt.Normalize(target_iouts[-1], 411), linewidth=0.3, ax=axin, zorder=2)\n",
    "\n",
    "\n",
    "\n",
    "# Draw box\n",
    "x1 = NC.box[0,0]; x2 = NC.box[0,1]\n",
    "z1 = NC.box[2,0]; z2 = NC.box[2,1]\n",
    "rectangle = plt.Rectangle((x1, z1), x2-x1, z2-z1, ec='dodgerblue', fc='none')\n",
    "ax.add_patch(rectangle)\n",
    "\n",
    "axin.set_xlim(x1, x2)\n",
    "axin.set_ylim(z1, z2)\n",
    "\n",
    "plt.show(); plt.close()"
   ]
  },
  {
   "cell_type": "markdown",
   "metadata": {},
   "source": [
    "---"
   ]
  },
  {
   "cell_type": "markdown",
   "metadata": {},
   "source": [
    "---"
   ]
  },
  {
   "cell_type": "markdown",
   "metadata": {},
   "source": [
    "# ✏️04. Examples"
   ]
  },
  {
   "cell_type": "markdown",
   "metadata": {},
   "source": [
    "---"
   ]
  },
  {
   "cell_type": "markdown",
   "metadata": {},
   "source": [
    "## get magnitude"
   ]
  },
  {
   "cell_type": "code",
   "execution_count": null,
   "metadata": {},
   "outputs": [],
   "source": [
    "print(\"Measuring the luminosity of the stellar particles\")\n",
    "print(\"using the saved table (w/ Bruzual & Charlot 03 model)\")"
   ]
  },
  {
   "cell_type": "code",
   "execution_count": null,
   "metadata": {},
   "outputs": [],
   "source": [
    "sdss_u = rur.sci.photometry.measure_magnitude(star,'SDSS_u')\n",
    "sdss_g = rur.sci.photometry.measure_magnitude(star,'SDSS_g')\n",
    "sdss_r = rur.sci.photometry.measure_magnitude(star,'SDSS_r')\n",
    "sdss_i = rur.sci.photometry.measure_magnitude(star,'SDSS_i')\n",
    "sdss_z = rur.sci.photometry.measure_magnitude(star,'SDSS_z')"
   ]
  },
  {
   "cell_type": "markdown",
   "metadata": {},
   "source": [
    "## unit conversion"
   ]
  },
  {
   "cell_type": "code",
   "execution_count": null,
   "metadata": {},
   "outputs": [],
   "source": [
    "print(\"Minmax of the coordinates of the loaded particles\")\n",
    "print(\"       (*** Before unit conversion ***)\")\n",
    "print('--------------------------------------------------')\n",
    "print(\"   X = [%s, %s]\"%(np.min(part['x']),np.max(part['x'])))\n",
    "print(\"   Y = [%s, %s]\"%(np.min(part['y']),np.max(part['y'])))\n",
    "print(\"   Z = [%s, %s]\"%(np.min(part['z']),np.max(part['z'])))\n",
    "print('--------------------------------------------------')"
   ]
  },
  {
   "cell_type": "code",
   "execution_count": null,
   "metadata": {},
   "outputs": [],
   "source": [
    "NC.switch_unitmode()"
   ]
  },
  {
   "cell_type": "code",
   "execution_count": null,
   "metadata": {},
   "outputs": [],
   "source": [
    "print(\"Minmax of the coordinates of the loaded particles\")\n",
    "print(\"       (*** After unit conversion ***)\")\n",
    "print('--------------------------------------------------')\n",
    "print(\"   X = [%s, %s]\"%(np.min(part['x']),np.max(part['x'])))\n",
    "print(\"   Y = [%s, %s]\"%(np.min(part['y']),np.max(part['y'])))\n",
    "print(\"   Z = [%s, %s]\"%(np.min(part['z']),np.max(part['z'])))\n",
    "print('--------------------------------------------------')"
   ]
  },
  {
   "cell_type": "code",
   "execution_count": null,
   "metadata": {},
   "outputs": [],
   "source": [
    "print('-----------------------')\n",
    "print(f\"{len(part)} particles\")\n",
    "star = part['star']\n",
    "print(f\" > {len(star)} stars\")\n",
    "dm = part['dm']\n",
    "print(f\" > {len(dm)} dark matters\")\n",
    "print('----------------------')"
   ]
  },
  {
   "cell_type": "code",
   "execution_count": null,
   "metadata": {},
   "outputs": [],
   "source": [
    "import copy\n",
    "ktrg = copy.deepcopy(target)"
   ]
  },
  {
   "cell_type": "code",
   "execution_count": null,
   "metadata": {},
   "outputs": [],
   "source": [
    "ktrg['x'] /= NC.unit['kpc']\n",
    "ktrg['y'] /= NC.unit['kpc']\n",
    "ktrg['z'] /= NC.unit['kpc']"
   ]
  },
  {
   "cell_type": "code",
   "execution_count": null,
   "metadata": {},
   "outputs": [],
   "source": [
    "print('galaxy center position in sim unit')\n",
    "print('-------------------------------------')\n",
    "print('    X =',target['x'],'[kpc]')\n",
    "print('    Y =',target['y'],'[kpc]')\n",
    "print('    Z =',target['z'],'[kpc]')\n",
    "print('-------------------------------------')"
   ]
  },
  {
   "cell_type": "code",
   "execution_count": null,
   "metadata": {},
   "outputs": [],
   "source": [
    "print('galaxy center position in kpc unit')\n",
    "print('-------------------------------------')\n",
    "print('    X =',ktrg['x'],'[kpc]')\n",
    "print('    Y =',ktrg['y'],'[kpc]')\n",
    "print('    Z =',ktrg['z'],'[kpc]')\n",
    "print('-------------------------------------')"
   ]
  },
  {
   "cell_type": "code",
   "execution_count": null,
   "metadata": {},
   "outputs": [],
   "source": [
    "print(\"Minmax of the coordinates of the loaded particles\")\n",
    "print(\"   (*** After changing the center position ***)\")\n",
    "print('--------------------------------------------------')\n",
    "print(\"   X = [%s, %s]\"%(np.min(part['x']-ktrg['x']),np.max(part['x']-ktrg['x'])))\n",
    "print(\"   Y = [%s, %s]\"%(np.min(part['y']-ktrg['y']),np.max(part['y']-ktrg['y'])))\n",
    "print(\"   Z = [%s, %s]\"%(np.min(part['z']-ktrg['z']),np.max(part['z']-ktrg['z'])))\n",
    "print('--------------------------------------------------')"
   ]
  },
  {
   "cell_type": "markdown",
   "metadata": {},
   "source": [
    "## ❓QUIZ 01❓\n",
    " > **1. Draw XY(f1) & XZ(f2) histogram of the stellar particles**  \n",
    " > **2. Try changing the weight array (mass, flux)**  "
   ]
  },
  {
   "cell_type": "code",
   "execution_count": null,
   "metadata": {
    "ExecuteTime": {
     "end_time": "2024-08-19T02:29:33.253493Z",
     "start_time": "2024-08-19T02:29:31.178456Z"
    }
   },
   "outputs": [],
   "source": [
    "fig = plt.figure(figsize=(16,8))\n",
    "f1 = fig.add_subplot(1,2,1)\n",
    "f2 = fig.add_subplot(1,2,2)\n",
    "\n",
    "#!!!!!!!!!!!!!!!!!!!!!!!!!!!!!!!!!!!!!!!!!!!!!!!\n",
    "\n",
    "xarr = \n",
    "\n",
    "yarr1 = \n",
    "yarr2 = \n",
    "\n",
    "warr = \n",
    "\n",
    "dlim = 10\n",
    "bins = 300\n",
    "\n",
    "#!!!!!!!!!!!!!!!!!!!!!!!!!!!!!!!!!!!!!!!!!!!!!!!\n",
    "\n",
    "f1.hist2d(xarr,\n",
    "          yarr1,\n",
    "          weights=warr,\n",
    "          range=[[-dlim,dlim],[-dlim,dlim]],\n",
    "          bins=bins,\n",
    "          norm=colors.LogNorm())\n",
    "\n",
    "f2.hist2d(xarr,\n",
    "          yarr2,\n",
    "          weights=warr,\n",
    "          range=[[-dlim,dlim],[-dlim,dlim]],\n",
    "          bins=bins,\n",
    "          norm=colors.LogNorm())\n",
    "\n",
    "#!!!!!!!!!!!!!!!!!!!!!!!!!!!!!!!!!!!!!!!!!!!!!!!\n",
    "\n",
    "lab_size = 20\n",
    "f_tick = 4/5\n",
    "f_legend = 4/5\n",
    "\n",
    "f1.set_title(\"Face-on\",size=lab_size,pad=8)\n",
    "f1.set_xlabel('$X\\ (\\mathrm{kpc})$',size=lab_size)\n",
    "f1.set_ylabel('$Y\\ (\\mathrm{kpc})$',size=lab_size)\n",
    "\n",
    "f2.set_title(\"Edge-on\",size=lab_size,pad=8)\n",
    "f2.set_xlabel('$X\\ (\\mathrm{kpc})$',size=lab_size)\n",
    "f2.set_ylabel('$Z\\ (\\mathrm{kpc})$',size=lab_size)\n",
    "\n",
    "f1.tick_params(axis='x',labelsize=f_tick*lab_size)\n",
    "f1.tick_params(axis='y',labelsize=f_tick*lab_size)\n",
    "\n",
    "f2.tick_params(axis='x',labelsize=f_tick*lab_size)\n",
    "f2.tick_params(axis='y',labelsize=f_tick*lab_size)\n",
    "\n",
    "#!!!!!!!!!!!!!!!!!!!!!!!!!!!!!!!!!!!!!!!!!!!!!!!\n",
    "\n",
    "plt.tight_layout()\n",
    "plt.show()"
   ]
  },
  {
   "cell_type": "markdown",
   "metadata": {},
   "source": [
    "## ❓QUIZ 02❓\n",
    " > **1. Rotate galaxy with respect to its net angular momentum direction**\n",
    ">\n",
    " > **2. Draw spatial distribution again**"
   ]
  },
  {
   "cell_type": "code",
   "execution_count": null,
   "metadata": {},
   "outputs": [],
   "source": [
    "star = rur.sci.kinematics.align_axis(part=star, \n",
    "                                     gal=ktrg,\n",
    "                                     prefix=None)"
   ]
  },
  {
   "cell_type": "code",
   "execution_count": null,
   "metadata": {},
   "outputs": [],
   "source": [
    "fig = plt.figure(figsize=(16,8))\n",
    "f1 = fig.add_subplot(1,2,1)\n",
    "f2 = fig.add_subplot(1,2,2)\n",
    "\n",
    "#!!!!!!!!!!!!!!!!!!!!!!!!!!!!!!!!!!!!!!!!!!!!!!!\n",
    "\n",
    "xarr = \n",
    "\n",
    "yarr1 = \n",
    "yarr2 = \n",
    "\n",
    "warr = \n",
    "\n",
    "dlim = 10\n",
    "bins = 300\n",
    "\n",
    "#!!!!!!!!!!!!!!!!!!!!!!!!!!!!!!!!!!!!!!!!!!!!!!!\n",
    "\n",
    "f1.hist2d(xarr,\n",
    "          yarr1,\n",
    "          weights=warr,\n",
    "          range=[[-dlim,dlim],[-dlim,dlim]],\n",
    "          bins=bins,\n",
    "          norm=colors.LogNorm())\n",
    "\n",
    "f2.hist2d(xarr,\n",
    "          yarr2,\n",
    "          weights=warr,\n",
    "          range=[[-dlim,dlim],[-dlim,dlim]],\n",
    "          bins=bins,\n",
    "          norm=colors.LogNorm())\n",
    "\n",
    "#!!!!!!!!!!!!!!!!!!!!!!!!!!!!!!!!!!!!!!!!!!!!!!!\n",
    "\n",
    "lab_size = 20\n",
    "f_tick = 4/5\n",
    "f_legend = 4/5\n",
    "\n",
    "f1.set_title(\"Face-on\",size=lab_size,pad=8)\n",
    "f1.set_xlabel('$X\\ (\\mathrm{kpc})$',size=lab_size)\n",
    "f1.set_ylabel('$Y\\ (\\mathrm{kpc})$',size=lab_size)\n",
    "\n",
    "f2.set_title(\"Edge-on\",size=lab_size,pad=8)\n",
    "f2.set_xlabel('$X\\ (\\mathrm{kpc})$',size=lab_size)\n",
    "f2.set_ylabel('$Z\\ (\\mathrm{kpc})$',size=lab_size)\n",
    "\n",
    "f1.tick_params(axis='x',labelsize=f_tick*lab_size)\n",
    "f1.tick_params(axis='y',labelsize=f_tick*lab_size)\n",
    "\n",
    "f2.tick_params(axis='x',labelsize=f_tick*lab_size)\n",
    "f2.tick_params(axis='y',labelsize=f_tick*lab_size)\n",
    "\n",
    "#!!!!!!!!!!!!!!!!!!!!!!!!!!!!!!!!!!!!!!!!!!!!!!!\n",
    "\n",
    "plt.tight_layout()\n",
    "plt.show()"
   ]
  },
  {
   "cell_type": "markdown",
   "metadata": {},
   "source": [
    "## ❓QUIZ 03❓\n",
    " > **Draw Age or Metallicity 1d histogram of the stellar particles**  "
   ]
  },
  {
   "cell_type": "code",
   "execution_count": null,
   "metadata": {},
   "outputs": [],
   "source": [
    "fig = plt.figure(figsize=(10,8))\n",
    "f1 = fig.add_subplot(1,1,1)\n",
    "\n",
    "#!!!!!!!!!!!!!!!!!!!!!!!!!!!!!!!!!!!!!!!!!!!!!!!\n",
    "\n",
    "xarr = \n",
    "warr = None\n",
    "\n",
    "bins = 200\n",
    "\n",
    "xmin = 0\n",
    "xmax = 5.5\n",
    "\n",
    "#!!!!!!!!!!!!!!!!!!!!!!!!!!!!!!!!!!!!!!!!!!!!!!!\n",
    "\n",
    "f1.hist(xarr,\n",
    "        weights=warr,\n",
    "        range=[xmin,xmax],\n",
    "        bins=bins,\n",
    "        histtype='stepfilled',\n",
    "        color='c',\n",
    "        alpha=0.5)\n",
    "\n",
    "#!!!!!!!!!!!!!!!!!!!!!!!!!!!!!!!!!!!!!!!!!!!!!!!\n",
    "\n",
    "lab_size = 20\n",
    "f_tick = 4/5\n",
    "f_legend = 4/5\n",
    "\n",
    "f1.set_xlabel('$Age\\ (\\mathrm{Gyr})$',size=lab_size)\n",
    "f1.set_ylabel('$N$',size=lab_size)\n",
    "\n",
    "f1.tick_params(axis='x',labelsize=f_tick*lab_size)\n",
    "f1.tick_params(axis='y',labelsize=f_tick*lab_size)\n",
    "\n",
    "f1.set_xlim(xmin,xmax)\n",
    "f1.set_ylim(1e-1,)\n",
    "\n",
    "#!!!!!!!!!!!!!!!!!!!!!!!!!!!!!!!!!!!!!!!!!!!!!!!\n",
    "\n",
    "plt.tight_layout()\n",
    "plt.show()"
   ]
  },
  {
   "cell_type": "code",
   "execution_count": null,
   "metadata": {},
   "outputs": [],
   "source": [
    "fig = plt.figure(figsize=(10,8))\n",
    "f1 = fig.add_subplot(1,1,1)\n",
    "\n",
    "#!!!!!!!!!!!!!!!!!!!!!!!!!!!!!!!!!!!!!!!!!!!!!!!\n",
    "\n",
    "Zsol = 0.0134\n",
    "\n",
    "xarr = \n",
    "warr = None\n",
    "\n",
    "bins = 200\n",
    "xmin = -2\n",
    "xmax = 0.5\n",
    "\n",
    "#!!!!!!!!!!!!!!!!!!!!!!!!!!!!!!!!!!!!!!!!!!!!!!!\n",
    "\n",
    "f1.hist(xarr,\n",
    "        weights=warr,\n",
    "        range=[xmin,xmax],\n",
    "        bins=bins,\n",
    "        histtype='stepfilled',\n",
    "        color='c',\n",
    "        alpha=0.5)\n",
    "\n",
    "#!!!!!!!!!!!!!!!!!!!!!!!!!!!!!!!!!!!!!!!!!!!!!!!\n",
    "\n",
    "lab_size = 20\n",
    "f_tick = 4/5\n",
    "f_legend = 4/5\n",
    "\n",
    "f1.set_xlabel('$log\\ Z/Z_{\\odot}$',size=lab_size)\n",
    "f1.set_ylabel('$N$',size=lab_size)\n",
    "\n",
    "f1.tick_params(axis='x',labelsize=f_tick*lab_size)\n",
    "f1.tick_params(axis='y',labelsize=f_tick*lab_size)\n",
    "\n",
    "f1.set_xlim(xmin,xmax)\n",
    "f1.set_ylim(1e-1,)\n",
    "\n",
    "#!!!!!!!!!!!!!!!!!!!!!!!!!!!!!!!!!!!!!!!!!!!!!!!\n",
    "\n",
    "plt.tight_layout()\n",
    "plt.show()"
   ]
  },
  {
   "cell_type": "markdown",
   "metadata": {},
   "source": [
    "## ❓QUIZ 03-2❓\n",
    " > **Draw Age & Metallicity 2d histogram of the stellar particles**  "
   ]
  },
  {
   "cell_type": "code",
   "execution_count": null,
   "metadata": {},
   "outputs": [],
   "source": [
    "fig = plt.figure(figsize=(15,8))\n",
    "\n",
    "f2 = plt.subplot2grid((4,6), (0, 0),fig=fig,colspan=4)\n",
    "f1 = plt.subplot2grid((4,6), (1, 0),colspan=4,rowspan=3,fig=fig)\n",
    "f3 = plt.subplot2grid((4,6), (1, 4),fig=fig,rowspan=3)\n",
    "\n",
    "#!!!!!!!!!!!!!!!!!!!!!!!!!!!!!!!!!!!!!!!!!!!!!!!\n",
    "\n",
    "xarr = \n",
    "yarr = \n",
    "\n",
    "warr = None\n",
    "\n",
    "bins = 200\n",
    "cmap=plt.cm.magma\n",
    "\n",
    "xmin = 0\n",
    "xmax = 5.5\n",
    "\n",
    "ymin = -2\n",
    "ymax = 0.5\n",
    "\n",
    "#!!!!!!!!!!!!!!!!!!!!!!!!!!!!!!!!!!!!!!!!!!!!!!!\n",
    "\n",
    "f1.hist2d(xarr,\n",
    "          yarr,\n",
    "          weights=warr,\n",
    "          range=[[xmin,xmax],[ymin,ymax]],\n",
    "          bins=bins,\n",
    "          cmap=cmap,\n",
    "          norm=colors.LogNorm())\n",
    "\n",
    "\n",
    "f2.hist(xarr,\n",
    "        weights=warr,\n",
    "        range=[xmin,xmax],\n",
    "        bins=bins,\n",
    "        histtype='step',\n",
    "        color='k',\n",
    "        lw=2)\n",
    "f3.hist(yarr,\n",
    "        weights=warr,\n",
    "        range=[ymin,ymax],\n",
    "        bins=bins,\n",
    "        histtype='step',\n",
    "        color='k',\n",
    "        lw=2,\n",
    "        orientation='horizontal')\n",
    "\n",
    "#!!!!!!!!!!!!!!!!!!!!!!!!!!!!!!!!!!!!!!!!!!!!!!!\n",
    "\n",
    "f1.set_xlabel('$Age\\ (\\mathrm{Gyr})$',size=lab_size)\n",
    "f1.set_ylabel('$log\\ Z/Z_{\\odot}$',size=lab_size)\n",
    "\n",
    "f1.tick_params(axis='x',labelsize=f_tick*lab_size)\n",
    "f1.tick_params(axis='y',labelsize=f_tick*lab_size)\n",
    "\n",
    "f1.set_xlim(xmin,xmax)\n",
    "f1.set_ylim(ymin,ymax)\n",
    "\n",
    "f2.set_xlim(xmin,xmax)\n",
    "f2.set_xticks([])\n",
    "f2.set_yticks([])\n",
    "\n",
    "f3.set_ylim(ymin,ymax)\n",
    "f3.set_xticks([])\n",
    "f3.set_yticks([])\n",
    "\n",
    "#!!!!!!!!!!!!!!!!!!!!!!!!!!!!!!!!!!!!!!!!!!!!!!!\n",
    "\n",
    "plt.subplots_adjust(wspace=0,hspace=0)\n",
    "\n",
    "#plt.tight_layout()\n",
    "plt.show()"
   ]
  },
  {
   "cell_type": "markdown",
   "metadata": {},
   "source": [
    "## ❓QUIZ 04❓\n",
    " > **Draw [Mg/Fe] vs. [Fe/H] diagram**  "
   ]
  },
  {
   "cell_type": "code",
   "execution_count": null,
   "metadata": {},
   "outputs": [],
   "source": [
    "from rur.sci import chemistry as chem"
   ]
  },
  {
   "cell_type": "code",
   "execution_count": null,
   "metadata": {},
   "outputs": [],
   "source": [
    "solar_H = chem.solar_frac['H']\n",
    "solar_Mg = chem.solar_frac['Mg']\n",
    "solar_Fe = chem.solar_frac['Fe']"
   ]
  },
  {
   "cell_type": "code",
   "execution_count": null,
   "metadata": {},
   "outputs": [],
   "source": [
    "FeH = \n",
    "MgFe = "
   ]
  },
  {
   "cell_type": "code",
   "execution_count": null,
   "metadata": {},
   "outputs": [],
   "source": [
    "fig = plt.figure(figsize=(14,8))\n",
    "\n",
    "f2 = plt.subplot2grid((4,6), (0, 0),fig=fig,colspan=4)\n",
    "f1 = plt.subplot2grid((4,6), (1, 0),colspan=4,rowspan=3,fig=fig)\n",
    "f3 = plt.subplot2grid((4,6), (1, 4),fig=fig,rowspan=3)\n",
    "\n",
    "#!!!!!!!!!!!!!!!!!!!!!!!!!!!!!!!!!!!!!!!!!!!!!!!\n",
    "\n",
    "xarr = \n",
    "yarr = \n",
    "\n",
    "warr = None\n",
    "\n",
    "bins = 200\n",
    "cmap=plt.cm.magma\n",
    "\n",
    "xmin = -3\n",
    "xmax = 0.5\n",
    "\n",
    "ymin = -0.2\n",
    "ymax = 1\n",
    "\n",
    "#!!!!!!!!!!!!!!!!!!!!!!!!!!!!!!!!!!!!!!!!!!!!!!!\n",
    "\n",
    "f1.hist2d(xarr,\n",
    "          yarr,\n",
    "          weights=warr,\n",
    "          range=[[xmin,xmax],\n",
    "                 [ymin,ymax]],\n",
    "          bins=bins,\n",
    "          cmap=cmap,\n",
    "          norm=colors.LogNorm())\n",
    "\n",
    "\n",
    "f2.hist(xarr,\n",
    "        weights=warr,\n",
    "        range=[xmin,xmax],\n",
    "        bins=bins,\n",
    "        histtype='step',\n",
    "        color='k',\n",
    "        lw=2)\n",
    "f3.hist(yarr,\n",
    "        weights=warr,\n",
    "        range=[ymin,ymax],\n",
    "        bins=bins,\n",
    "        histtype='step',\n",
    "        color='k',\n",
    "        lw=2,\n",
    "        orientation='horizontal')\n",
    "\n",
    "f1.axvline(0,\n",
    "           ls='--',\n",
    "           lw=2,\n",
    "           color='k')\n",
    "f1.axhline(0,\n",
    "           ls='--',\n",
    "           lw=2,\n",
    "           color='k')\n",
    "f2.axvline(0,\n",
    "           ls='--',\n",
    "           lw=2,\n",
    "           color='k')\n",
    "f3.axhline(0,\n",
    "           ls='--',\n",
    "           lw=2,\n",
    "           color='k')\n",
    "\n",
    "#!!!!!!!!!!!!!!!!!!!!!!!!!!!!!!!!!!!!!!!!!!!!!!!\n",
    "\n",
    "f1.set_xlabel('$\\mathrm{[Fe/H]}$',size=lab_size)\n",
    "f1.set_ylabel('$\\mathrm{[Mg/Fe]}$',size=lab_size)\n",
    "\n",
    "f1.tick_params(axis='x',labelsize=f_tick*lab_size)\n",
    "f1.tick_params(axis='y',labelsize=f_tick*lab_size)\n",
    "\n",
    "f1.set_xlim(xmin,xmax)\n",
    "f1.set_ylim(ymin,ymax)\n",
    "\n",
    "f2.set_xlim(xmin,xmax)\n",
    "f2.set_xticks([])\n",
    "f2.set_yticks([])\n",
    "\n",
    "f3.set_ylim(ymin,ymax)\n",
    "f3.set_xticks([])\n",
    "f3.set_yticks([])\n",
    "\n",
    "#!!!!!!!!!!!!!!!!!!!!!!!!!!!!!!!!!!!!!!!!!!!!!!!\n",
    "\n",
    "plt.subplots_adjust(wspace=0,hspace=0)\n",
    "\n",
    "#plt.tight_layout()\n",
    "plt.show()"
   ]
  },
  {
   "cell_type": "markdown",
   "metadata": {},
   "source": [
    "## ❓QUIZ 05❓\n",
    " > **Draw gas phase-space diagram (Temperature vs. density)**  "
   ]
  },
  {
   "cell_type": "code",
   "execution_count": null,
   "metadata": {},
   "outputs": [],
   "source": [
    "fig = plt.figure(figsize=(14,8))\n",
    "\n",
    "f2 = plt.subplot2grid((4,5), (0, 0),fig=fig,colspan=3)\n",
    "f1 = plt.subplot2grid((4,5), (1, 0),colspan=3,rowspan=3,fig=fig)\n",
    "f3 = plt.subplot2grid((4,5), (1, 3),fig=fig,rowspan=3)\n",
    "\n",
    "#!!!!!!!!!!!!!!!!!!!!!!!!!!!!!!!!!!!!!!!!!!!!!!!\n",
    "\n",
    "xarr = \n",
    "yarr = \n",
    "\n",
    "warr = \n",
    "\n",
    "bins = 400\n",
    "cmap=plt.cm.jet\n",
    "\n",
    "xmin = -5\n",
    "xmax = 3\n",
    "\n",
    "ymin = 1\n",
    "ymax = 8\n",
    "\n",
    "#!!!!!!!!!!!!!!!!!!!!!!!!!!!!!!!!!!!!!!!!!!!!!!!\n",
    "\n",
    "f1.hist2d(xarr,\n",
    "          yarr,\n",
    "          weights=warr,\n",
    "          range=[[xmin,xmax],\n",
    "                 [ymin,ymax]],\n",
    "          bins=bins,\n",
    "          cmap=cmap,\n",
    "          norm=colors.LogNorm())\n",
    "\n",
    "\n",
    "f2.hist(xarr,\n",
    "        weights=warr,\n",
    "        range=[xmin,xmax],\n",
    "        bins=bins,\n",
    "        histtype='step',\n",
    "        color='k',\n",
    "        lw=2)\n",
    "f3.hist(yarr,\n",
    "        weights=warr,\n",
    "        range=[ymin,ymax],\n",
    "        bins=bins,\n",
    "        histtype='step',\n",
    "        color='k',\n",
    "        lw=2,\n",
    "        orientation='horizontal')\n",
    "\n",
    "#!!!!!!!!!!!!!!!!!!!!!!!!!!!!!!!!!!!!!!!!!!!!!!!\n",
    "\n",
    "f1.set_xlabel(r'$log\\ \\rho\\ (\\mathrm{H/cc})$',size=lab_size)\n",
    "f1.set_ylabel('$log\\ T\\ (\\mathrm{K})$',size=lab_size)\n",
    "\n",
    "f1.tick_params(axis='x',labelsize=f_tick*lab_size)\n",
    "f1.tick_params(axis='y',labelsize=f_tick*lab_size)\n",
    "\n",
    "f1.set_xlim(xmin,xmax)\n",
    "f1.set_ylim(ymin,ymax)\n",
    "\n",
    "f2.set_xlim(xmin,xmax)\n",
    "f2.set_xticks([])\n",
    "f2.set_yticks([])\n",
    "\n",
    "f3.set_ylim(ymin,ymax)\n",
    "f3.set_xticks([])\n",
    "f3.set_yticks([])\n",
    "\n",
    "#!!!!!!!!!!!!!!!!!!!!!!!!!!!!!!!!!!!!!!!!!!!!!!!\n",
    "\n",
    "plt.subplots_adjust(wspace=0,hspace=0)\n",
    "\n",
    "#plt.tight_layout()\n",
    "plt.show()"
   ]
  },
  {
   "cell_type": "markdown",
   "metadata": {},
   "source": [
    "## ❓QUIZ 06❓\n",
    " > **Draw [Mg/Fe] vs. [Fe/H] diagram for gas**  "
   ]
  },
  {
   "cell_type": "code",
   "execution_count": null,
   "metadata": {},
   "outputs": [],
   "source": [
    "FeH_c = \n",
    "MgFe_c = "
   ]
  },
  {
   "cell_type": "code",
   "execution_count": null,
   "metadata": {},
   "outputs": [],
   "source": [
    "fig = plt.figure(figsize=(14,8))\n",
    "\n",
    "f2 = plt.subplot2grid((4,6), (0, 0),fig=fig,colspan=4)\n",
    "f1 = plt.subplot2grid((4,6), (1, 0),colspan=4,rowspan=3,fig=fig)\n",
    "f3 = plt.subplot2grid((4,6), (1, 4),fig=fig,rowspan=3)\n",
    "\n",
    "#!!!!!!!!!!!!!!!!!!!!!!!!!!!!!!!!!!!!!!!!!!!!!!!\n",
    "\n",
    "xarr = \n",
    "yarr = \n",
    "\n",
    "warr = None\n",
    "\n",
    "bins = 200\n",
    "cmap=plt.cm.magma\n",
    "\n",
    "xmin = -1\n",
    "xmax = 1\n",
    "\n",
    "ymin = -0.5\n",
    "ymax = 0.5\n",
    "\n",
    "#!!!!!!!!!!!!!!!!!!!!!!!!!!!!!!!!!!!!!!!!!!!!!!!\n",
    "\n",
    "f1.hist2d(xarr,\n",
    "          yarr,\n",
    "          weights=warr,\n",
    "          range=[[xmin,xmax],\n",
    "                 [ymin,ymax]],\n",
    "          bins=bins,\n",
    "          cmap=cmap,\n",
    "          norm=colors.LogNorm())\n",
    "\n",
    "\n",
    "f2.hist(xarr,\n",
    "        weights=warr,\n",
    "        range=[xmin,xmax],\n",
    "        bins=bins,\n",
    "        histtype='step',\n",
    "        color='k',\n",
    "        lw=2)\n",
    "f3.hist(yarr,\n",
    "        weights=warr,\n",
    "        range=[ymin,ymax],\n",
    "        bins=bins,\n",
    "        histtype='step',\n",
    "        color='k',\n",
    "        lw=2,\n",
    "        orientation='horizontal')\n",
    "\n",
    "f1.axvline(0,\n",
    "           ls='--',\n",
    "           lw=2,\n",
    "           color='k')\n",
    "f1.axhline(0,\n",
    "           ls='--',\n",
    "           lw=2,\n",
    "           color='k')\n",
    "f2.axvline(0,\n",
    "           ls='--',\n",
    "           lw=2,\n",
    "           color='k')\n",
    "f3.axhline(0,\n",
    "           ls='--',\n",
    "           lw=2,\n",
    "           color='k')\n",
    "\n",
    "#!!!!!!!!!!!!!!!!!!!!!!!!!!!!!!!!!!!!!!!!!!!!!!!\n",
    "\n",
    "f1.set_xlabel('$\\mathrm{[Fe/H]}$',size=lab_size)\n",
    "f1.set_ylabel('$\\mathrm{[Mg/Fe]}$',size=lab_size)\n",
    "\n",
    "f1.tick_params(axis='x',labelsize=f_tick*lab_size)\n",
    "f1.tick_params(axis='y',labelsize=f_tick*lab_size)\n",
    "\n",
    "f1.set_xlim(xmin,xmax)\n",
    "f1.set_ylim(ymin,ymax)\n",
    "\n",
    "f2.set_xlim(xmin,xmax)\n",
    "f2.set_xticks([])\n",
    "f2.set_yticks([])\n",
    "\n",
    "f3.set_ylim(ymin,ymax)\n",
    "f3.set_xticks([])\n",
    "f3.set_yticks([])\n",
    "\n",
    "#!!!!!!!!!!!!!!!!!!!!!!!!!!!!!!!!!!!!!!!!!!!!!!!\n",
    "\n",
    "plt.subplots_adjust(wspace=0,hspace=0)\n",
    "\n",
    "#plt.tight_layout()\n",
    "plt.show()"
   ]
  },
  {
   "cell_type": "markdown",
   "metadata": {},
   "source": [
    "## ❓QUIZ 07❓\n",
    " > **Calculate the half-mass radius & the effective radius of a galaxy**\n",
    ">\n",
    ">  Hint: use np.argsort(), np.where(), and np.cumsum() "
   ]
  },
  {
   "cell_type": "code",
   "execution_count": null,
   "metadata": {},
   "outputs": [],
   "source": [
    "r3d = np.sqrt(np.square(star['x']-ktrg['x'])+\n",
    "              np.square(star['y']-ktrg['y'])+\n",
    "              np.square(star['z']-ktrg['z']))"
   ]
  },
  {
   "cell_type": "code",
   "execution_count": null,
   "metadata": {},
   "outputs": [],
   "source": []
  },
  {
   "cell_type": "code",
   "execution_count": null,
   "metadata": {},
   "outputs": [],
   "source": []
  },
  {
   "cell_type": "markdown",
   "metadata": {},
   "source": [
    "## ❓QUIZ 08❓\n",
    " > **1. Transform the coordinate from Cartesian to cylindrical coordinate**\n",
    "> \n",
    " > **2. Calculate the V/$\\sigma$ of star & gaseous cell**"
   ]
  },
  {
   "cell_type": "code",
   "execution_count": null,
   "metadata": {},
   "outputs": [],
   "source": [
    "from statsmodels.stats.weightstats import DescrStatsW"
   ]
  },
  {
   "cell_type": "code",
   "execution_count": null,
   "metadata": {},
   "outputs": [],
   "source": [
    "## For you\n",
    "\n",
    "def cart_to_cyl(xarr, yarr, zarr, \n",
    "                vxarr, vyarr, vzarr):\n",
    "    \n",
    "    r = np.sqrt(np.square(xarr)+np.square(yarr))\n",
    "    phi = np.arctan2(yarr,xarr)\n",
    "    \n",
    "    phisort = (phi<0)\n",
    "    phi[phisort] += 2*np.pi\n",
    "\n",
    "    z = zarr\n",
    "\n",
    "    v_r = np.cos(phi)*vxarr + np.sin(phi)*vyarr\n",
    "    v_phi = -np.sin(phi)*vxarr + np.cos(phi)*vyarr\n",
    "    v_z = vzarr\n",
    "\n",
    "    return r, phi, z, v_r, v_phi, v_z\n",
    "    "
   ]
  },
  {
   "cell_type": "code",
   "execution_count": null,
   "metadata": {},
   "outputs": [],
   "source": [
    "xarr = star['x'] - ktrg['x']\n",
    "yarr = star['y'] - ktrg['y']\n",
    "zarr = star['z'] - ktrg['z']\n",
    "\n",
    "vxarr = star['vx'] - ktrg['vx']\n",
    "vyarr = star['vy'] - ktrg['vy']\n",
    "vzarr = star['vz'] - ktrg['vz']"
   ]
  },
  {
   "cell_type": "code",
   "execution_count": null,
   "metadata": {},
   "outputs": [],
   "source": [
    "r,phi,z,vr,vphi,vz = cart_to_cyl(xarr, yarr, zarr, \n",
    "                                 vxarr, vyarr, vzarr)"
   ]
  },
  {
   "cell_type": "code",
   "execution_count": null,
   "metadata": {},
   "outputs": [],
   "source": []
  },
  {
   "cell_type": "code",
   "execution_count": null,
   "metadata": {},
   "outputs": [],
   "source": []
  },
  {
   "cell_type": "markdown",
   "metadata": {},
   "source": [
    "## ❓QUIZ $\\infty$❓\n",
    " > **Do whatever you want to do.**\n",
    "> \n",
    " > **If you are not sure whether it is possible or not, please ask.** "
   ]
  },
  {
   "cell_type": "code",
   "execution_count": null,
   "metadata": {},
   "outputs": [],
   "source": []
  },
  {
   "cell_type": "code",
   "execution_count": null,
   "metadata": {},
   "outputs": [],
   "source": []
  },
  {
   "cell_type": "code",
   "execution_count": null,
   "metadata": {},
   "outputs": [],
   "source": []
  },
  {
   "cell_type": "code",
   "execution_count": null,
   "metadata": {},
   "outputs": [],
   "source": []
  },
  {
   "cell_type": "code",
   "execution_count": null,
   "metadata": {},
   "outputs": [],
   "source": []
  }
 ],
 "metadata": {
  "kernelspec": {
   "display_name": "Python [conda env:base] *",
   "language": "python",
   "name": "conda-base-py"
  },
  "language_info": {
   "codemirror_mode": {
    "name": "ipython",
    "version": 3
   },
   "file_extension": ".py",
   "mimetype": "text/x-python",
   "name": "python",
   "nbconvert_exporter": "python",
   "pygments_lexer": "ipython3",
   "version": "3.8.19"
  },
  "toc": {
   "base_numbering": 1,
   "nav_menu": {},
   "number_sections": true,
   "sideBar": true,
   "skip_h1_title": false,
   "title_cell": "Table of Contents",
   "title_sidebar": "Contents",
   "toc_cell": false,
   "toc_position": {},
   "toc_section_display": true,
   "toc_window_display": false
  },
  "widgets": {
   "application/vnd.jupyter.widget-state+json": {
    "state": {},
    "version_major": 2,
    "version_minor": 0
   }
  }
 },
 "nbformat": 4,
 "nbformat_minor": 4
}
