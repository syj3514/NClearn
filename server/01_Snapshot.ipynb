{
 "cells": [
  {
   "cell_type": "markdown",
   "metadata": {},
   "source": [
    "Verify environments"
   ]
  },
  {
   "cell_type": "code",
   "execution_count": 1,
   "metadata": {},
   "outputs": [],
   "source": [
    "import os\n",
    "if not os.path.exists(\"/storage7/NewCluster\"):\n",
    "    raise FileNotFoundError(\"You should run this script on GEM server!!\")"
   ]
  },
  {
   "cell_type": "markdown",
   "metadata": {},
   "source": [
    "# 0. Preparation"
   ]
  },
  {
   "cell_type": "markdown",
   "metadata": {},
   "source": [
    "Install `RUR`\n",
    "```bash\n",
    "guest@GC11:~$ git clone https://github.com/sanhancluster/rur.git\n",
    "guest@GC11:~$ cd rur\n",
    "guest@GC11:~/rur$ ./f2py        # Compile fortran-based functions\n",
    "guest@GC11:~$ conda develop .   # If you use conda, add this repository to PATH\n",
    "```"
   ]
  },
  {
   "cell_type": "code",
   "execution_count": 2,
   "metadata": {},
   "outputs": [],
   "source": [
    "# Import Libraries\n",
    "import numpy as np\n",
    "import matplotlib.pyplot as plt\n",
    "\n",
    "from rur import uri"
   ]
  },
  {
   "cell_type": "markdown",
   "metadata": {},
   "source": [
    "# 1. Snapshot Info"
   ]
  },
  {
   "cell_type": "code",
   "execution_count": 50,
   "metadata": {},
   "outputs": [
    {
     "name": "stdout",
     "output_type": "stream",
     "text": [
      "[Output 00620] Age (Gyr) : 6.883 / 13.761, z = 0.80011 (a = 0.5555)\n",
      "Find nearest iout=620 for z=0.8\n",
      "[Output 00620] Age (Gyr) : 6.883 / 13.761, z = 0.80011 (a = 0.5555)\n"
     ]
    }
   ],
   "source": [
    "Repository = \"/storage7/NewCluster\" # Where NC data is stored\n",
    "\n",
    "# i. Specify the snapshot number\n",
    "snap = uri.RamsesSnapshot(Repository, 620)\n",
    "\n",
    "# ii. Specify the redshift\n",
    "snap = uri.RamsesSnapshot(Repository, 0, z=0.8)"
   ]
  },
  {
   "cell_type": "markdown",
   "metadata": {},
   "source": [
    "## Parameters"
   ]
  },
  {
   "cell_type": "code",
   "execution_count": 24,
   "metadata": {},
   "outputs": [
    {
     "name": "stdout",
     "output_type": "stream",
     "text": [
      "nstar [722026085]\n",
      "star [ True]\n",
      "ncpu 960\n",
      "ndim 3\n",
      "levelmin 8\n",
      "levelmax 21\n",
      "ngridmax 1800000\n",
      "nstep_coarse 51330\n",
      "boxlen 1.0\n",
      "time -0.906141456531244\n",
      "aexp 0.555520088817122\n",
      "H0 70.3000030517578\n",
      "omega_m 0.272000014781952\n",
      "omega_l 0.727999985218048\n",
      "omega_k 0.0\n",
      "omega_b 0.0455\n",
      "unit_l 2.43385760939328e+26\n",
      "unit_d 1.47413805897548e-29\n",
      "unit_t 1.35205671622049e+17\n",
      "unit_m 2.1253167195715275e+50\n",
      "h 0.703000030517578\n",
      "z 0.8001149195690049\n",
      "boxsize 100.00000585166977\n",
      "boxsize_physical 79.02135095432726\n",
      "boxsize_comoving 142.24751281738293\n",
      "icoarse 51330\n",
      "ordering hilbert\n",
      "age 6.882587207036426\n",
      "lookback_time 6.87827302177066\n"
     ]
    }
   ],
   "source": [
    "params = snap.params\n",
    "for key, val in params.items():\n",
    "    print(key, val)"
   ]
  },
  {
   "cell_type": "markdown",
   "metadata": {},
   "source": [
    "## Number of Particles"
   ]
  },
  {
   "cell_type": "code",
   "execution_count": 25,
   "metadata": {},
   "outputs": [
    {
     "name": "stdout",
     "output_type": "stream",
     "text": [
      "total 1547151363\n",
      "dm 555674169\n",
      "star 722026085\n",
      "sink 689\n",
      "cloud 1453101\n",
      "tracer 267997944\n",
      "other_tracer 0\n",
      "debris_tracer 0\n",
      "cloud_tracer 3769187\n",
      "star_tracer 22976506\n",
      "gas_tracer 241252251\n",
      "debris 0\n",
      "other 0\n",
      "undefined 64\n"
     ]
    }
   ],
   "source": [
    "header = snap.extract_header()\n",
    "for key, val in header.items():\n",
    "    print(key, val)"
   ]
  },
  {
   "cell_type": "markdown",
   "metadata": {},
   "source": [
    "## Particle / Cell columns"
   ]
  },
  {
   "cell_type": "code",
   "execution_count": 31,
   "metadata": {},
   "outputs": [
    {
     "name": "stdout",
     "output_type": "stream",
     "text": [
      "['x', 'y', 'z', 'rho', 'vx', 'vy', 'vz', 'P', 'metal', 'H', 'O', 'Fe', 'Mg', 'C', 'N', 'Si', 'S', 'D', 'd1', 'd2', 'd3', 'd4', 'refmask', 'sigma', 'level', 'cpu']\n"
     ]
    }
   ],
   "source": [
    "dim_keys = ['x', 'y', 'z']\n",
    "amr_names1 = list(dim_keys[:snap.params['ndim']]) # Position\n",
    "hydro_names = snap.hydro_names\n",
    "amr_names2 = ['level', 'cpu']\n",
    "hydro_names = amr_names1 + hydro_names + amr_names2 \n",
    "print(hydro_names)"
   ]
  },
  {
   "cell_type": "code",
   "execution_count": 32,
   "metadata": {},
   "outputs": [
    {
     "name": "stdout",
     "output_type": "stream",
     "text": [
      "[('x', 'f8'), ('y', 'f8'), ('z', 'f8'), ('vx', 'f8'), ('vy', 'f8'), ('vz', 'f8'), ('m', 'f8'), ('id', 'i4'), ('level', 'i4'), ('family', 'i1'), ('tag', 'i1'), ('epoch', 'f8'), ('metal', 'f8'), ('m0', 'f8'), ('H', 'f8'), ('O', 'f8'), ('Fe', 'f8'), ('Mg', 'f8'), ('C', 'f8'), ('N', 'f8'), ('Si', 'f8'), ('S', 'f8'), ('D', 'f8'), ('rho0', 'f8'), ('partp', 'i4'), ('cpu', 'i4')]\n"
     ]
    }
   ],
   "source": [
    "print( snap.part_dtype )"
   ]
  },
  {
   "cell_type": "markdown",
   "metadata": {},
   "source": [
    "## Unit conversion"
   ]
  },
  {
   "cell_type": "code",
   "execution_count": 33,
   "metadata": {},
   "outputs": [
    {
     "name": "stdout",
     "output_type": "stream",
     "text": [
      "cm 4.108703796559748e-27\n",
      "m 4.1087037965597474e-25\n",
      "km 4.1087037965597477e-22\n",
      "pc 1.2654807693404022e-08\n",
      "kpc 1.2654807693404022e-05\n",
      "Mpc 0.012654807693404024\n",
      "Gpc 12.654807693404022\n",
      "ly 3.887121400811281e-09\n",
      "cpc 7.029999893803401e-09\n",
      "ckpc 7.029999893803402e-06\n",
      "cMpc 0.007029999893803401\n",
      "cGpc 7.029999893803402\n",
      "cpc/h 9.999999414833057e-09\n",
      "ckpc/h 9.99999941483306e-06\n",
      "cMpc/h 0.009999999414833058\n",
      "pc/h 1.8001148142322305e-08\n",
      "kpc/h 1.8001148142322305e-05\n",
      "Mpc/h 0.018001148142322308\n",
      "Gpc/h 18.001148142322304\n",
      "g 4.7051810715609676e-51\n",
      "kg 4.7051810715609677e-48\n",
      "Msol 9.410362143121934e-18\n",
      "Msun 9.410362143121934e-18\n",
      "yr 2.332742378453341e-10\n",
      "kyr 2.3327423784533413e-07\n",
      "Myr 0.00023327423784533414\n",
      "Gyr 0.23327423784533413\n",
      "g/cc 6.783625142240721e+28\n",
      "H/cc 148168.65442262628\n",
      "Msol/Mpc3 4.643438386601241e-12\n",
      "Msol/kpc3 0.004643438386601243\n",
      "km/s 5.5552005630992315e-05\n",
      "cm/s 5.555200563099232e-10\n",
      "K 2.566643548546973e-11\n",
      "Msol/Mpc2 5.876181981860895e-14\n",
      "Msol/kpc2 5.876181981860897e-08\n",
      "Msol/pc2 0.058761819818608965\n",
      "H/cm2 4.626736458476193e-22\n",
      "Ba 20934439015.6413\n",
      "Msol/yr 4.0340340322368595e-08\n",
      "g/s 6.361671668837528e-34\n",
      "erg 1.4520307967313021e-69\n",
      "erg/cc 20934439015.6413\n",
      "None 1.0\n"
     ]
    }
   ],
   "source": [
    "unit = snap.unit\n",
    "for key, val in unit.items():\n",
    "    print(key, val)\n",
    "\n",
    "# physical_length = code_length / length_unit\n",
    "# ex: R_kpc = R_code / snap.unit['kpc']"
   ]
  },
  {
   "cell_type": "markdown",
   "metadata": {},
   "source": [
    "# 2. Snapshot\"s\" Info"
   ]
  },
  {
   "cell_type": "code",
   "execution_count": 41,
   "metadata": {},
   "outputs": [
    {
     "name": "stdout",
     "output_type": "stream",
     "text": [
      "(1, 0.01960784383, 0.04885518219, 0, -22.94095701)\n",
      "(2, 0.02339434211, 0.06365738233, 8, -20.62695671)\n",
      "(3, 0.02671554767, 0.07767303599, 15, -19.01684558)\n",
      "...\n",
      "(621, 0.5564309543, 6.897576428, 51435, -0.9026502669)\n",
      "(622, 0.5573474341, 6.912625738, 51542, -0.8991565709)\n",
      "(623, 0.5582612555, 6.927645631, 51652, -0.8956811235)\n",
      "('iout', 'aexp', 'age', 'icoarse', 'time')\n"
     ]
    }
   ],
   "source": [
    "snaps = uri.TimeSeries(snap)\n",
    "snaps.read_iout_avail()\n",
    "table = snaps.iout_avail\n",
    "for i in range(3): print(table[i])\n",
    "print(\"...\")\n",
    "for i in range(3): print(table[-3+i])\n",
    "print(table.dtype.names)"
   ]
  },
  {
   "cell_type": "code",
   "execution_count": 48,
   "metadata": {},
   "outputs": [
    {
     "data": {
      "text/plain": [
       "Text(0, 0.5, 'Redshift')"
      ]
     },
     "execution_count": 48,
     "metadata": {},
     "output_type": "execute_result"
    },
    {
     "data": {
      "image/png": "[encoded data removed]",
      "text/plain": [
       "<Figure size 640x480 with 1 Axes>"
      ]
     },
     "metadata": {},
     "output_type": "display_data"
    }
   ],
   "source": [
    "import matplotlib.pyplot as plt\n",
    "timestep = table['iout']\n",
    "redshift = 1/table['aexp'] - 1\n",
    "plt.scatter(timestep, redshift, ec='k', fc='none', lw=0.5, alpha=0.5)\n",
    "plt.yscale('log')\n",
    "plt.xlabel('Timestep')\n",
    "plt.ylabel('Redshift')"
   ]
  }
 ],
 "metadata": {
  "kernelspec": {
   "display_name": "py312",
   "language": "python",
   "name": "python3"
  },
  "language_info": {
   "codemirror_mode": {
    "name": "ipython",
    "version": 3
   },
   "file_extension": ".py",
   "mimetype": "text/x-python",
   "name": "python",
   "nbconvert_exporter": "python",
   "pygments_lexer": "ipython3",
   "version": "3.12.4"
  }
 },
 "nbformat": 4,
 "nbformat_minor": 2
}
